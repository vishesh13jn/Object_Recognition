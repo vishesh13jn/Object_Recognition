{
 "cells": [
  {
   "cell_type": "code",
   "execution_count": null,
   "metadata": {},
   "outputs": [],
   "source": [
    "import matplotlib.pyplot as plt\n",
    "import imageio, os \n",
    "import skimage.transform\n",
    "import numpy as np\n",
    "\n",
    "dir_image = \"image\"\n",
    "img = imageio.imread(os.path.join(dir_image,\"person.JPG\"))\n",
    "newsize = (200,250)\n",
    "img = skimage.transform.resize(img,newsize)\n",
    "const = 4\n",
    "plt.figure(figsize=(5*const,6*const))\n",
    "plt.imshow(img)\n",
    "plt.show()"
   ]
  },
  {
   "cell_type": "code",
   "execution_count": null,
   "metadata": {
    "scrolled": false
   },
   "outputs": [],
   "source": [
    "import selective_search as ss\n",
    "regions = ss.get_region_proposal(img,min_size=50)"
   ]
  },
  {
   "cell_type": "code",
   "execution_count": null,
   "metadata": {},
   "outputs": [],
   "source": [
    "import seaborn as sns\n",
    "def plt_rectangle(plt,label,x1,y1,x2,y2,color = \"yellow\", alpha=0.5):\n",
    "    linewidth = 3\n",
    "    if type(label) == list:\n",
    "        linewidth = len(label)*3 + 2\n",
    "        label = \"\"\n",
    "        \n",
    "    plt.text(x1,y1,label,fontsize=20,backgroundcolor=color,alpha=alpha)\n",
    "    plt.plot([x1,x1],[y1,y2], linewidth=linewidth,color=color, alpha=alpha)\n",
    "    plt.plot([x2,x2],[y1,y2], linewidth=linewidth,color=color, alpha=alpha)\n",
    "    plt.plot([x1,x2],[y1,y1], linewidth=linewidth,color=color, alpha=alpha)\n",
    "    plt.plot([x1,x2],[y2,y2], linewidth=linewidth,color=color, alpha=alpha)\n",
    "    \n",
    "    \n",
    "plt.figure(figsize=(20,20))    \n",
    "plt.imshow(img)\n",
    "for item, color in zip(regions,sns.xkcd_rgb.values()):\n",
    "    x1, y1, width, height = item[\"rect\"]\n",
    "    label = item[\"labels\"][:5]\n",
    "    plt_rectangle(plt,label,\n",
    "                  x1,\n",
    "                  y1,\n",
    "                  x2 = x1 + width,\n",
    "                  y2 = y1 + height, \n",
    "                  color= color)"
   ]
  },
  {
   "cell_type": "code",
   "execution_count": null,
   "metadata": {},
   "outputs": [],
   "source": [
    "import numpy as np \n",
    "\n",
    "def warp_candidate_regions(img,regions):\n",
    "    newsize_cnn = (224, 224)\n",
    "    X = []\n",
    "    for i, r in enumerate(regions):\n",
    "        origx , origy , width, height = r[\"rect\"]\n",
    "        candidate_region = img[origy:origy + height,\n",
    "                               origx:origx + width]\n",
    "        img_resize = skimage.transform.resize(candidate_region,newsize_cnn)\n",
    "        X.append(img_resize)\n",
    "\n",
    "    X = np.array(X)\n",
    "    print(X.shape)\n",
    "    return(X)\n",
    "X = warp_candidate_regions(img,regions)"
   ]
  },
  {
   "cell_type": "code",
   "execution_count": null,
   "metadata": {},
   "outputs": [],
   "source": [
    "from keras.applications import VGG16\n",
    "modelvgg16 = VGG16(include_top=True,weights='imagenet')\n",
    "modelvgg16.summary()"
   ]
  },
  {
   "cell_type": "code",
   "execution_count": null,
   "metadata": {},
   "outputs": [],
   "source": [
    "from keras import models\n",
    "modelvgg = models.Model(inputs  = modelvgg16.inputs, \n",
    "                        outputs = modelvgg16.layers[-3].output)\n",
    "\n",
    "modelvgg.summary()"
   ]
  },
  {
   "cell_type": "code",
   "execution_count": null,
   "metadata": {},
   "outputs": [],
   "source": [
    "import time\n",
    "start   = time.time()\n",
    "feature = modelvgg.predict(X)\n",
    "end     = time.time()\n",
    "print(\"TIME TOOK: {:5.4f}MIN\".format((end-start)/60.0))\n",
    "feature.shape"
   ]
  },
  {
   "cell_type": "code",
   "execution_count": null,
   "metadata": {},
   "outputs": [],
   "source": [
    "from keras.models import load_model\n",
    "\n",
    "dir_result = \"output\"\n",
    "classifier = load_model(os.path.join(dir_result,\"classifier.h5\"))\n",
    "classifier.summary()\n",
    "y_pred = classifier.predict(feature)"
   ]
  },
  {
   "cell_type": "code",
   "execution_count": null,
   "metadata": {
    "scrolled": false
   },
   "outputs": [],
   "source": [
    "def plot_selected_regions_with_estimated_prob(y_pred,\n",
    "                                              method=\"highest\",\n",
    "                                              upto=1):\n",
    "    irows = np.argsort(y_pred[:,0])\n",
    "    if method == \"highest\":\n",
    "        irows = irows[::-1]\n",
    "    count = 1\n",
    "    const = 4\n",
    "    fig = plt.figure(figsize=(upto*const,const))\n",
    "    fig.subplots_adjust(hspace=0.13,wspace=0.0001,\n",
    "                        left=0,right=1,bottom=0, top=1)\n",
    "    for irow in irows:\n",
    "        prob = y_pred[irow,0]\n",
    "        r    = regions[irow]\n",
    "        origx , origy , width, height = r[\"rect\"]\n",
    "        \n",
    "        ax = fig.add_subplot(1,upto,count)\n",
    "        ax.imshow(img)\n",
    "        ax.axis(\"off\")\n",
    "        plt_rectangle(ax,label=\"\",\n",
    "                      x1=origx,\n",
    "                      y1=origy,\n",
    "                      x2=origx + width,\n",
    "                      y2=origy+height,color = \"yellow\", alpha=0.5)\n",
    "        ax.set_title(\"Prob={:4.3f}\".format(prob))\n",
    "        count += 1\n",
    "        if count > upto:\n",
    "            break\n",
    "    plt.show()\n",
    "print(\"The most likely candidate regions\")    \n",
    "plot_selected_regions_with_estimated_prob(y_pred,method=\"highest\",upto=1)"
   ]
  }
 ],
 "metadata": {
  "kernelspec": {
   "display_name": "Python 3",
   "language": "python",
   "name": "python3"
  },
  "language_info": {
   "codemirror_mode": {
    "name": "ipython",
    "version": 3
   },
   "file_extension": ".py",
   "mimetype": "text/x-python",
   "name": "python",
   "nbconvert_exporter": "python",
   "pygments_lexer": "ipython3",
   "version": "3.7.5"
  }
 },
 "nbformat": 4,
 "nbformat_minor": 2
}
